{
 "cells": [
  {
   "cell_type": "code",
   "execution_count": 1,
   "id": "f52fb933",
   "metadata": {},
   "outputs": [
    {
     "data": {
      "text/plain": [
       "['municipios', 'ciudades', 'rios']"
      ]
     },
     "execution_count": 1,
     "metadata": {},
     "output_type": "execute_result"
    }
   ],
   "source": [
    "import geopandas as gpd\n",
    "from  fiona import listlayers\n",
    "\n",
    "#maps\n",
    "worldMaps='https://github.com/FabianRomero20/Examen1/raw/main/maps/worldMaps.gpkg'\n",
    "\n",
    "#layers in maps\n",
    "listlayers(worldMaps)"
   ]
  },
  {
   "cell_type": "code",
   "execution_count": 3,
   "id": "6d33c569",
   "metadata": {},
   "outputs": [],
   "source": [
    "countries=gpd.read_file(worldMaps,layer='municipios')\n",
    "cities=gpd.read_file(worldMaps,layer='ciudades')\n",
    "rivers=gpd.read_file(worldMaps,layer='rios')"
   ]
  },
  {
   "cell_type": "code",
   "execution_count": 4,
   "id": "6492c3fb",
   "metadata": {},
   "outputs": [
    {
     "data": {
      "text/plain": [
       "True"
      ]
     },
     "execution_count": 4,
     "metadata": {},
     "output_type": "execute_result"
    }
   ],
   "source": [
    "countries.crs.to_epsg()==cities.crs.to_epsg()==rivers.crs.to_epsg()"
   ]
  },
  {
   "cell_type": "code",
   "execution_count": null,
   "id": "12c5b16f",
   "metadata": {},
   "outputs": [],
   "source": []
  }
 ],
 "metadata": {
  "kernelspec": {
   "display_name": "Python 3 (ipykernel)",
   "language": "python",
   "name": "python3"
  },
  "language_info": {
   "codemirror_mode": {
    "name": "ipython",
    "version": 3
   },
   "file_extension": ".py",
   "mimetype": "text/x-python",
   "name": "python",
   "nbconvert_exporter": "python",
   "pygments_lexer": "ipython3",
   "version": "3.9.13"
  }
 },
 "nbformat": 4,
 "nbformat_minor": 5
}
